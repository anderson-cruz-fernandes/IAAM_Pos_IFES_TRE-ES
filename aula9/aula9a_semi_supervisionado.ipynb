{
  "nbformat": 4,
  "nbformat_minor": 0,
  "metadata": {
    "colab": {
      "provenance": []
    },
    "kernelspec": {
      "name": "python3",
      "display_name": "Python 3"
    },
    "language_info": {
      "name": "python"
    }
  },
  "cells": [
    {
      "cell_type": "markdown",
      "source": [
        "# Carregamento dos dados"
      ],
      "metadata": {
        "id": "YZERqs-nXCbt"
      }
    },
    {
      "cell_type": "code",
      "source": [
        "from sklearn.datasets import load_digits\n",
        "from sklearn.model_selection import train_test_split\n",
        "\n",
        "# Carregar o dataset MNIST (digits)\n",
        "X_digits, y_digits = load_digits(return_X_y=True)\n",
        "X_train, X_test, y_train, y_test = train_test_split(X_digits, y_digits, test_size=0.2, random_state=42)"
      ],
      "metadata": {
        "id": "VRkGwRycW7NU"
      },
      "execution_count": 2,
      "outputs": []
    },
    {
      "cell_type": "code",
      "source": [
        "from sklearn.cluster import AgglomerativeClustering\n",
        "import numpy as np\n",
        "\n",
        "# Clusterização para selecionar exemplos representativos\n",
        "n_clusters = 10  # Número de classes no MNIST\n",
        "agg_clustering = AgglomerativeClustering(n_clusters=n_clusters)\n",
        "clusters = agg_clustering.fit_predict(X_train)\n",
        "\n",
        "# Seleção de exemplos representativos (um por cluster)\n",
        "representative_indices = []\n",
        "for cluster_id in range(n_clusters):\n",
        "    cluster_indices = np.where(clusters == cluster_id)[0]\n",
        "    representative_indices.append(cluster_indices[0])\n",
        "\n",
        "X_representative = X_train[representative_indices]\n",
        "y_representative = y_train[representative_indices]"
      ],
      "metadata": {
        "id": "wTAK6YQOXJrd"
      },
      "execution_count": 3,
      "outputs": []
    },
    {
      "cell_type": "code",
      "source": [
        "from sklearn.linear_model import LogisticRegression\n",
        "from sklearn.metrics import accuracy_score\n",
        "\n",
        "# Treinamento com os exemplos representativos\n",
        "log_reg = LogisticRegression(max_iter=10000, random_state=42)\n",
        "log_reg.fit(X_representative, y_representative)\n",
        "\n",
        "# Avaliação\n",
        "y_pred = log_reg.predict(X_test)\n",
        "score_clustered = accuracy_score(y_test, y_pred)\n",
        "print(f\"Acurácia usando exemplos representativos (clusterização): {score_clustered:.4f}\")"
      ],
      "metadata": {
        "colab": {
          "base_uri": "https://localhost:8080/"
        },
        "id": "FAr0n3FiXOK1",
        "outputId": "a622ac3b-7a02-450d-c954-e890079c4136"
      },
      "execution_count": 4,
      "outputs": [
        {
          "output_type": "stream",
          "name": "stdout",
          "text": [
            "Acurácia usando exemplos representativos (clusterização): 0.5333\n"
          ]
        }
      ]
    },
    {
      "cell_type": "code",
      "source": [
        "# Treinamento com o dataset completo\n",
        "log_reg_full = LogisticRegression(max_iter=10000, random_state=42)\n",
        "log_reg_full.fit(X_train, y_train)\n",
        "\n",
        "# Avaliação\n",
        "y_pred_full = log_reg_full.predict(X_test)\n",
        "score_full = accuracy_score(y_test, y_pred_full)\n",
        "print(f\"Acurácia usando o dataset completo: {score_full:.4f}\")"
      ],
      "metadata": {
        "colab": {
          "base_uri": "https://localhost:8080/"
        },
        "id": "EJDb0N5oXS6-",
        "outputId": "d88f0bbe-b1e7-4a64-c211-f84b19a2e7bb"
      },
      "execution_count": 5,
      "outputs": [
        {
          "output_type": "stream",
          "name": "stdout",
          "text": [
            "Acurácia usando o dataset completo: 0.9750\n"
          ]
        }
      ]
    },
    {
      "cell_type": "code",
      "source": [
        "# Seleção de amostras aleatórias\n",
        "n_random_samples = 10  # Mesmo número de exemplos representativos\n",
        "random_indices = np.random.choice(len(X_train), size=n_random_samples, replace=False)\n",
        "X_random = X_train[random_indices]\n",
        "y_random = y_train[random_indices]\n",
        "\n",
        "# Treinamento com amostras aleatórias\n",
        "log_reg_random = LogisticRegression(max_iter=10000, random_state=42)\n",
        "log_reg_random.fit(X_random, y_random)\n",
        "\n",
        "# Avaliação\n",
        "y_pred_random = log_reg_random.predict(X_test)\n",
        "score_random = accuracy_score(y_test, y_pred_random)\n",
        "print(f\"Acurácia usando amostras aleatórias: {score_random:.4f}\")"
      ],
      "metadata": {
        "colab": {
          "base_uri": "https://localhost:8080/"
        },
        "id": "ls2KoA6zXWIm",
        "outputId": "a03e12b8-bace-4591-84f2-3d8182c6ab43"
      },
      "execution_count": 6,
      "outputs": [
        {
          "output_type": "stream",
          "name": "stdout",
          "text": [
            "Acurácia usando amostras aleatórias: 0.5111\n"
          ]
        }
      ]
    }
  ]
}